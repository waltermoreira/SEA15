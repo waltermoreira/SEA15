{
 "cells": [
  {
   "cell_type": "markdown",
   "metadata": {},
   "source": [
    "# Producer\n",
    "\n",
    "Send random numbers in a loop to the queue in host `rabbit`."
   ]
  },
  {
   "cell_type": "code",
   "execution_count": null,
   "metadata": {
    "collapsed": false
   },
   "outputs": [],
   "source": [
    "import logging\n",
    "logging.basicConfig()\n",
    "import pika\n",
    "pika_logger = logging.getLogger('pika.adapters')\n",
    "pika_logger.setLevel(logging.CRITICAL+1)"
   ]
  },
  {
   "cell_type": "markdown",
   "metadata": {},
   "source": [
    "A simple function that connects to RabbitMQ and publishes a message in queue SEA15."
   ]
  },
  {
   "cell_type": "code",
   "execution_count": null,
   "metadata": {
    "collapsed": true
   },
   "outputs": [],
   "source": [
    "def send(message):\n",
    "\n",
    "    # Connect to queue\n",
    "    channel = pika.BlockingConnection(\n",
    "        pika.ConnectionParameters(\n",
    "            host='rabbit')).channel()\n",
    "    channel.queue_declare(queue='SEA15')\n",
    "\n",
    "    # Send a message\n",
    "    channel.basic_publish(\n",
    "        exchange='',\n",
    "        routing_key='SEA15',\n",
    "        body=str(message))"
   ]
  },
  {
   "cell_type": "markdown",
   "metadata": {},
   "source": [
    "Run the loop:"
   ]
  },
  {
   "cell_type": "code",
   "execution_count": null,
   "metadata": {
    "collapsed": false
   },
   "outputs": [],
   "source": [
    "import time\n",
    "import random\n",
    "\n",
    "while True:\n",
    "    x = random.random()\n",
    "    try:\n",
    "        send(x)\n",
    "        print 'Sent', x\n",
    "    except pika.exceptions.AMQPConnectionError:\n",
    "        pass\n",
    "    time.sleep(1)"
   ]
  }
 ],
 "metadata": {
  "kernelspec": {
   "display_name": "Python 2",
   "language": "python",
   "name": "python2"
  },
  "language_info": {
   "codemirror_mode": {
    "name": "ipython",
    "version": 2
   },
   "file_extension": ".py",
   "mimetype": "text/x-python",
   "name": "python",
   "nbconvert_exporter": "python",
   "pygments_lexer": "ipython2",
   "version": "2.7.6"
  }
 },
 "nbformat": 4,
 "nbformat_minor": 0
}
