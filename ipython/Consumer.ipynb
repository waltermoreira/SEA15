{
 "cells": [
  {
   "cell_type": "markdown",
   "metadata": {},
   "source": [
    "# Consumer\n",
    "\n",
    "Consume numbers from the queue in the host `rabbit`."
   ]
  },
  {
   "cell_type": "code",
   "execution_count": null,
   "metadata": {
    "collapsed": false
   },
   "outputs": [],
   "source": [
    "import logging\n",
    "logging.basicConfig()\n",
    "import pika\n",
    "pika_logger = logging.getLogger('pika.adapters')\n",
    "pika_logger.setLevel(logging.CRITICAL+1)"
   ]
  },
  {
   "cell_type": "markdown",
   "metadata": {},
   "source": [
    "This function gets called for every new object in the queue."
   ]
  },
  {
   "cell_type": "code",
   "execution_count": null,
   "metadata": {
    "collapsed": true
   },
   "outputs": [],
   "source": [
    "def display(ch, meth, props, message):\n",
    "    print message,"
   ]
  },
  {
   "cell_type": "markdown",
   "metadata": {},
   "source": [
    "Consume the queue forever:"
   ]
  },
  {
   "cell_type": "code",
   "execution_count": null,
   "metadata": {
    "collapsed": false
   },
   "outputs": [],
   "source": [
    "while True:\n",
    "\n",
    "    try:\n",
    "        # Connect to queue\n",
    "        channel = pika.BlockingConnection(\n",
    "            pika.ConnectionParameters(\n",
    "                host='rabbit')).channel()\n",
    "        channel.queue_declare(queue='SEA15')\n",
    "\n",
    "        # Consume forever\n",
    "        channel.basic_qos(prefetch_count=1)\n",
    "        channel.basic_consume(\n",
    "            display, \n",
    "            queue='SEA15',\n",
    "            no_ack=True)\n",
    "        channel.start_consuming()\n",
    "\n",
    "    except pika.exceptions.AMQPError:\n",
    "        pass\n",
    "    "
   ]
  }
 ],
 "metadata": {
  "kernelspec": {
   "display_name": "Python 2",
   "language": "python",
   "name": "python2"
  },
  "language_info": {
   "codemirror_mode": {
    "name": "ipython",
    "version": 2
   },
   "file_extension": ".py",
   "mimetype": "text/x-python",
   "name": "python",
   "nbconvert_exporter": "python",
   "pygments_lexer": "ipython2",
   "version": "2.7.6"
  }
 },
 "nbformat": 4,
 "nbformat_minor": 0
}
